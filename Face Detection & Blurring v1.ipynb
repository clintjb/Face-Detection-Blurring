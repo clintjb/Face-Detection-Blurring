{
 "cells": [
  {
   "cell_type": "markdown",
   "metadata": {},
   "source": [
    "# Face Detection / Blurring\n",
    "\n",
    "I recently read an [article](https://www.theverge.com/2020/6/11/21280293/anonymize-blur-faces-photos-videos-camera-app-ios) regarding facial recognition algorithms and how they make it easy to identify individuals from a single photo. But with the help of advances in machine learning, it’s also easier than ever to anonymize photos and videos. Based on this, a London AI startup had built an app with a focus on investigative journalists who wanted an easy way to record anonymous footage.\n",
    "\n",
    "I was well aware of OpenCV but never applied/used it myself so thought this could be an intersting little project to see if I could replicate the functionality of the this app directly in Python."
   ]
  },
  {
   "cell_type": "code",
   "execution_count": null,
   "metadata": {},
   "outputs": [],
   "source": [
    "# Importing openCV and creating the classifier (included three but face1.xml performed best on my personal trials)\n",
    "\n",
    "import cv2\n",
    "classifier = cv2.CascadeClassifier('classifiers/face1.xml')"
   ]
  },
  {
   "cell_type": "code",
   "execution_count": null,
   "metadata": {},
   "outputs": [],
   "source": [
    "# Setting the webcam and resolutions\n",
    "\n",
    "video = cv2.VideoCapture(0)\n",
    "out = cv2.VideoWriter('face_blur.mp4', -1, 20.0, (640,480))"
   ]
  },
  {
   "cell_type": "code",
   "execution_count": null,
   "metadata": {},
   "outputs": [],
   "source": [
    "# Loop to keep the live stream running / detecting regions of interest\n",
    "\n",
    "while True:\n",
    "    try:\n",
    "        ret, frames = video.read()\n",
    "        gray = cv2.cvtColor(frames, cv2.COLOR_BGR2GRAY)\n",
    "        \n",
    "        # Here we now initiate the face detection and bounding box\n",
    "        faces = classifier.detectMultiScale(gray)\n",
    "        for (x, y, w, h) in faces:\n",
    "            cv2.rectangle(frames, (x, y), (x + w, y + h), (0, 0, 0), 2)\n",
    "            \n",
    "            # Here we set the gaussian blur within the box\n",
    "            face_color = frames[y:y + h, x:x + w]\n",
    "            blur = cv2.GaussianBlur(face_color, (75, 75), 0)\n",
    "            frames[y:y + h, x:x + w] = blur\n",
    "        \n",
    "        # Setting the video and OpenCV window\n",
    "        out.write(frames)\n",
    "        cv2.imshow('Face Blurring', frames)\n",
    "    \n",
    "        if cv2.waitKey(1) & 0xFF == ord('q'): break\n",
    "        \n",
    "    except Exception as e:\n",
    "        print(str(e))\n",
    "        break"
   ]
  },
  {
   "cell_type": "code",
   "execution_count": null,
   "metadata": {},
   "outputs": [],
   "source": [
    "# Turn off the camera and close the OpenCV windows\n",
    "\n",
    "video.release()\n",
    "out.release()\n",
    "cv2.destroyAllWindows()"
   ]
  }
 ],
 "metadata": {
  "kernelspec": {
   "display_name": "Python 3",
   "language": "python",
   "name": "python3"
  },
  "language_info": {
   "codemirror_mode": {
    "name": "ipython",
    "version": 3
   },
   "file_extension": ".py",
   "mimetype": "text/x-python",
   "name": "python",
   "nbconvert_exporter": "python",
   "pygments_lexer": "ipython3",
   "version": "3.8.8"
  }
 },
 "nbformat": 4,
 "nbformat_minor": 2
}
